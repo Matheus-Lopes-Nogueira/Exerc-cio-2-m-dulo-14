{
 "cells": [
  {
   "cell_type": "code",
   "execution_count": 7,
   "id": "14cd8300-13ab-4359-ac59-cd21c7d03e2c",
   "metadata": {},
   "outputs": [
    {
     "name": "stdout",
     "output_type": "stream",
     "text": [
      "Mês -f não é válido!\n",
      "Mês C:\\Users\\Lopes\\AppData\\Roaming\\jupyter\\runtime\\kernel-f70c5d98-b55d-41da-a588-4e0bb2c1c85e.json não é válido!\n"
     ]
    }
   ],
   "source": [
    "import os\n",
    "import sys\n",
    "import matplotlib.pyplot as plt\n",
    "\n",
    "# Função para criar pastas\n",
    "def criar_pastas(meses):\n",
    "    for mes in meses:\n",
    "        # Obtendo o número do mês a partir da abreviação\n",
    "        meses_dict = {\n",
    "            \"JAN\": \"01\", \"FEV\": \"02\", \"MAR\": \"03\", \"ABR\": \"04\", \"MAI\": \"05\", \"JUN\": \"06\",\n",
    "            \"JUL\": \"07\", \"AGO\": \"08\", \"SET\": \"09\", \"OUT\": \"10\", \"NOV\": \"11\", \"DEZ\": \"12\"\n",
    "        }\n",
    "        \n",
    "        # Checando se o mês é válido\n",
    "        if mes not in meses_dict:\n",
    "            print(f\"Mês {mes} não é válido!\")\n",
    "            continue\n",
    "\n",
    "        # Criando o diretório\n",
    "        ano = \"2019\"\n",
    "        mes_numero = meses_dict[mes]\n",
    "        pasta_nome = f\"{ano}-{mes_numero}\"\n",
    "        \n",
    "        if not os.path.exists(pasta_nome):\n",
    "            os.makedirs(pasta_nome)\n",
    "            print(f\"Pasta criada: {pasta_nome}\")\n",
    "\n",
    "            # Gerando um gráfico simples para o mês\n",
    "            plt.figure()\n",
    "            plt.plot([1, 2, 3], [1, 4, 9])  # Gráfico simples como exemplo\n",
    "            plt.title(f\"Gráfico para {mes} - {ano}\")\n",
    "            plt.savefig(f\"{pasta_nome}/{ano}-{mes_numero}.png\")  # Salvando a imagem na pasta\n",
    "            plt.close()\n",
    "\n",
    "# Main\n",
    "if __name__ == \"__main__\":\n",
    "    if len(sys.argv) < 2:\n",
    "        print(\"Por favor, forneça ao menos um mês como argumento.\")\n",
    "    else:\n",
    "        # Pega os meses passados como argumento\n",
    "        meses = sys.argv[1:]\n",
    "        criar_pastas(meses)\n"
   ]
  },
  {
   "cell_type": "code",
   "execution_count": null,
   "id": "1e27c688-abe2-46a3-b879-cdc9cafa8cf9",
   "metadata": {},
   "outputs": [],
   "source": []
  }
 ],
 "metadata": {
  "kernelspec": {
   "display_name": "Python [conda env:base] *",
   "language": "python",
   "name": "conda-base-py"
  },
  "language_info": {
   "codemirror_mode": {
    "name": "ipython",
    "version": 3
   },
   "file_extension": ".py",
   "mimetype": "text/x-python",
   "name": "python",
   "nbconvert_exporter": "python",
   "pygments_lexer": "ipython3",
   "version": "3.12.7"
  }
 },
 "nbformat": 4,
 "nbformat_minor": 5
}
