{
 "cells": [
  {
   "cell_type": "code",
   "execution_count": 14,
   "id": "14cd8300-13ab-4359-ac59-cd21c7d03e2c",
   "metadata": {},
   "outputs": [
    {
     "name": "stdout",
     "output_type": "stream",
     "text": [
      " Pasta criada: 2019-03\n",
      " Gráfico salvo em 2019-03/idade_maes_2019-03.png\n",
      " Pasta criada: 2019-04\n",
      " Gráfico salvo em 2019-04/idade_maes_2019-04.png\n",
      " Pasta criada: 2019-05\n",
      " Gráfico salvo em 2019-05/idade_maes_2019-05.png\n",
      " Pasta criada: 2019-06\n",
      " Gráfico salvo em 2019-06/idade_maes_2019-06.png\n",
      " Pasta criada: 2019-07\n",
      " Gráfico salvo em 2019-07/idade_maes_2019-07.png\n"
     ]
    }
   ],
   "source": [
    "import os\n",
    "import pandas as pd\n",
    "import matplotlib.pyplot as plt\n",
    "\n",
    "meses_dict = {\n",
    "    \"JAN\": \"01\", \"FEV\": \"02\", \"MAR\": \"03\", \"ABR\": \"04\", \"MAI\": \"05\", \"JUN\": \"06\",\n",
    "    \"JUL\": \"07\", \"AGO\": \"08\", \"SET\": \"09\", \"OUT\": \"10\", \"NOV\": \"11\", \"DEZ\": \"12\"\n",
    "}\n",
    "\n",
    "def carregar_dados(mes):\n",
    "    nome_arquivo = f\"SINASC_RO_2019_{mes}.csv\"  \n",
    "    if os.path.exists(nome_arquivo):  \n",
    "        return pd.read_csv(nome_arquivo)\n",
    "    else:\n",
    "        print(f\" Arquivo {nome_arquivo} não encontrado!\")\n",
    "        return None\n",
    "\n",
    "def criar_pastas_e_graficos(meses):\n",
    "    for mes in meses:\n",
    "        if mes not in meses_dict:\n",
    "            print(f\" Mês {mes} não é válido!\")\n",
    "            continue\n",
    "\n",
    "        ano = \"2019\"\n",
    "        mes_numero = meses_dict[mes]\n",
    "        pasta_nome = f\"{ano}-{mes_numero}\"\n",
    "\n",
    "        os.makedirs(pasta_nome, exist_ok=True)\n",
    "        print(f\" Pasta criada: {pasta_nome}\")\n",
    "\n",
    "        df = carregar_dados(mes)\n",
    "\n",
    "        if df is not None:\n",
    "            if 'IDADEMAE' in df.columns:\n",
    "                plt.figure(figsize=(10, 5))\n",
    "                plt.hist(df['IDADEMAE'].dropna(), bins=20, color='skyblue', edgecolor='black')\n",
    "                plt.title(f\"Distribuição da Idade das Mães - {mes}/{ano}\")\n",
    "                plt.xlabel(\"Idade\")\n",
    "                plt.ylabel(\"Frequência\")\n",
    "                plt.savefig(f\"{pasta_nome}/idade_maes_{ano}-{mes_numero}.png\")\n",
    "                print(f\" Gráfico salvo em {pasta_nome}/idade_maes_{ano}-{mes_numero}.png\")\n",
    "                plt.close()\n",
    "            else:\n",
    "                print(f\" Coluna 'IDADEMAE' não encontrada no arquivo {mes}.\")\n",
    "\n",
    "meses_selecionados = [\"MAR\", \"ABR\", \"MAI\", \"JUN\", \"JUL\"]\n",
    "\n",
    "criar_pastas_e_graficos(meses_selecionados)\n"
   ]
  },
  {
   "cell_type": "code",
   "execution_count": null,
   "id": "d8fa21ba-bbc0-474e-ab9d-0141a06ce52b",
   "metadata": {},
   "outputs": [],
   "source": []
  }
 ],
 "metadata": {
  "kernelspec": {
   "display_name": "Python [conda env:base] *",
   "language": "python",
   "name": "conda-base-py"
  },
  "language_info": {
   "codemirror_mode": {
    "name": "ipython",
    "version": 3
   },
   "file_extension": ".py",
   "mimetype": "text/x-python",
   "name": "python",
   "nbconvert_exporter": "python",
   "pygments_lexer": "ipython3",
   "version": "3.12.7"
  }
 },
 "nbformat": 4,
 "nbformat_minor": 5
}
